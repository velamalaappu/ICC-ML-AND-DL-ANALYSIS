{
  "nbformat": 4,
  "nbformat_minor": 0,
  "metadata": {
    "colab": {
      "name": "MODULE 5 SPEECH EMOTION REGRESSION.ipynb",
      "provenance": [],
      "collapsed_sections": [],
      "mount_file_id": "1b1uXZZYbFjWTYA7BALZPhUl92MSujbGY",
      "authorship_tag": "ABX9TyNe4468BNeAnCn+a6tNHN8W",
      "include_colab_link": true
    },
    "kernelspec": {
      "name": "python3",
      "display_name": "Python 3"
    },
    "language_info": {
      "name": "python"
    }
  },
  "cells": [
    {
      "cell_type": "markdown",
      "metadata": {
        "id": "view-in-github",
        "colab_type": "text"
      },
      "source": [
        "<a href=\"https://colab.research.google.com/github/velamalaappu/ICC-ML-AND-DL-ANALYSIS/blob/main/MODULE_5_SPEECH_EMOTION_REGRESSION.ipynb\" target=\"_parent\"><img src=\"https://colab.research.google.com/assets/colab-badge.svg\" alt=\"Open In Colab\"/></a>"
      ]
    },
    {
      "cell_type": "markdown",
      "source": [
        "# **SPEECH EMOTION REGRESSION**"
      ],
      "metadata": {
        "id": "8ydixuvAlpVy"
      }
    },
    {
      "cell_type": "markdown",
      "source": [
        "### **PROBLEM STATEMENT**"
      ],
      "metadata": {
        "id": "yzXrRAKulWLv"
      }
    },
    {
      "cell_type": "markdown",
      "source": [
        "Verbal Communication is valuable and sought after in workplace and classroom environments alike.\n",
        "There is no denying the notion that Indians lack verbal communication and consequently lag behind in\n",
        "the workplace or classroom environments. This happens despite them having strong technical\n",
        "competencies. Clear and comprehensive speech is the vital backbone of strong communication and\n",
        "presentation skills. Where some occupations consist mainly of presenting, most careers require and\n",
        "thrive from the ability to communicate effectively. Research has shown that verbal communication\n",
        "remains one of the most employable skills in both the perception of employers and new graduates. Of\n",
        "the possible improvements to vocal presentations tone, disfluencies, and stutters, in particular, remain\n",
        "one of the most common and prominent factors of someone’s demonstration. Millions of people are\n",
        "affected by stuttering and other speech disfluencies, with the majority of the world having experienced\n",
        "mild stutters while communicating under stressful conditions. Research shows that mild disfluencies\n",
        "can be cured without medical help, just practicing speech regularly and constructive feedbacks are\n",
        "effective ways to improve.\n",
        "We, Data Scientists recognize this problem and say hello.We will solve the above-mentioned problem by applying deep learning algorithms to audio/speech\n",
        "data. The solution will be to identify emotions in speech."
      ],
      "metadata": {
        "id": "ubmuKBGvlFgg"
      }
    },
    {
      "cell_type": "code",
      "source": [
        ""
      ],
      "metadata": {
        "id": "VwrChqk3l2ff"
      },
      "execution_count": null,
      "outputs": []
    },
    {
      "cell_type": "code",
      "execution_count": null,
      "metadata": {
        "id": "DBAKcDCUbqT4"
      },
      "outputs": [],
      "source": [
        "import os\n",
        "Root = \"/content/drive/MyDrive/speech-emotion-recognition-ravdess-data\"\n",
        "os.chdir(Root)"
      ]
    },
    {
      "cell_type": "code",
      "source": [
        "ls"
      ],
      "metadata": {
        "colab": {
          "base_uri": "https://localhost:8080/"
        },
        "id": "ljSgJyM4dmA-",
        "outputId": "b2c1c6da-0e79-4aa8-8597-919dc70596ed"
      },
      "execution_count": null,
      "outputs": [
        {
          "output_type": "stream",
          "name": "stdout",
          "text": [
            "\u001b[0m\u001b[01;34mActor_01\u001b[0m/  \u001b[01;34mActor_06\u001b[0m/  \u001b[01;34mActor_11\u001b[0m/  \u001b[01;34mActor_16\u001b[0m/  \u001b[01;34mActor_21\u001b[0m/\n",
            "\u001b[01;34mActor_02\u001b[0m/  \u001b[01;34mActor_07\u001b[0m/  \u001b[01;34mActor_12\u001b[0m/  \u001b[01;34mActor_17\u001b[0m/  \u001b[01;34mActor_22\u001b[0m/\n",
            "\u001b[01;34mActor_03\u001b[0m/  \u001b[01;34mActor_08\u001b[0m/  \u001b[01;34mActor_13\u001b[0m/  \u001b[01;34mActor_18\u001b[0m/  \u001b[01;34mActor_23\u001b[0m/\n",
            "\u001b[01;34mActor_04\u001b[0m/  \u001b[01;34mActor_09\u001b[0m/  \u001b[01;34mActor_14\u001b[0m/  \u001b[01;34mActor_19\u001b[0m/  \u001b[01;34mActor_24\u001b[0m/\n",
            "\u001b[01;34mActor_05\u001b[0m/  \u001b[01;34mActor_10\u001b[0m/  \u001b[01;34mActor_15\u001b[0m/  \u001b[01;34mActor_20\u001b[0m/  modelForPrediction1.sav\n"
          ]
        }
      ]
    },
    {
      "cell_type": "code",
      "source": [
        "import librosa\n",
        "import soundfile\n",
        "import os, glob, pickle\n",
        "import numpy as np\n",
        "from sklearn.model_selection import train_test_split\n",
        "from sklearn.neural_network import MLPClassifier\n",
        "from sklearn.metrics import accuracy_score"
      ],
      "metadata": {
        "id": "xKdKBQp-dqTU"
      },
      "execution_count": null,
      "outputs": []
    },
    {
      "cell_type": "code",
      "source": [
        "import librosa\n",
        "import soundfile\n",
        "import os, glob, pickle\n",
        "import numpy as np\n",
        "from sklearn.model_selection import train_test_split\n",
        "from sklearn.neural_network import MLPClassifier\n",
        "from sklearn.metrics import accuracy_score"
      ],
      "metadata": {
        "id": "Oepg43Lld6f-"
      },
      "execution_count": null,
      "outputs": []
    },
    {
      "cell_type": "code",
      "source": [
        "#Extract features (mfcc, chroma, mel) from a sound file\n",
        "def extract_feature(file_name, mfcc, chroma, mel):\n",
        "    with soundfile.SoundFile(file_name) as sound_file:\n",
        "        X = sound_file.read(dtype=\"float32\")\n",
        "        sample_rate=sound_file.samplerate\n",
        "        if chroma:\n",
        "            stft=np.abs(librosa.stft(X))\n",
        "        result=np.array([])\n",
        "        if mfcc:\n",
        "            mfccs=np.mean(librosa.feature.mfcc(y=X, sr=sample_rate, n_mfcc=40).T, axis=0)\n",
        "            result=np.hstack((result, mfccs))\n",
        "        if chroma:\n",
        "            chroma=np.mean(librosa.feature.chroma_stft(S=stft, sr=sample_rate).T,axis=0)\n",
        "            result=np.hstack((result, chroma))\n",
        "        if mel:\n",
        "            mel=np.mean(librosa.feature.melspectrogram(X, sr=sample_rate).T,axis=0)\n",
        "            result=np.hstack((result, mel))\n",
        "    return result"
      ],
      "metadata": {
        "id": "q6YsWeRKeFVa"
      },
      "execution_count": null,
      "outputs": []
    },
    {
      "cell_type": "code",
      "source": [
        "# Emotions in the RAVDESS dataset\n",
        "emotions={\n",
        "  '01':'neutral',\n",
        "  '02':'calm',\n",
        "  '03':'happy',\n",
        "  '04':'sad',\n",
        "  '05':'angry',\n",
        "  '06':'fearful',\n",
        "  '07':'disgust',\n",
        "  '08':'surprised'\n",
        "}\n",
        "\n",
        "#Emotions to observe\n",
        "observed_emotions=['calm', 'happy', 'fearful', 'disgust']"
      ],
      "metadata": {
        "id": "3Kx7dCMEeK65"
      },
      "execution_count": null,
      "outputs": []
    },
    {
      "cell_type": "code",
      "source": [
        "#Load the data and extract features for each sound file\n",
        "def load_data(test_size=0.2):\n",
        "    x,y=[],[]\n",
        "    for file in glob.glob(\"/content/drive/MyDrive/speech-emotion-recognition-ravdess-data/Actor_*/*.wav\"):\n",
        "        file_name=os.path.basename(file)\n",
        "        emotion=emotions[file_name.split(\"-\")[2]]\n",
        "        if emotion not in observed_emotions:\n",
        "            continue\n",
        "        feature=extract_feature(file, mfcc=True, chroma=True, mel=True)\n",
        "        x.append(feature)\n",
        "        y.append(emotion)\n",
        "    return train_test_split(np.array(x), y, test_size=test_size, random_state=9)"
      ],
      "metadata": {
        "id": "ujEzl5neeWsv"
      },
      "execution_count": null,
      "outputs": []
    },
    {
      "cell_type": "code",
      "source": [
        "#Split the dataset\n",
        "x_train,x_test,y_train,y_test=load_data(test_size=0.25)"
      ],
      "metadata": {
        "id": "F_D0AJr7ekmS"
      },
      "execution_count": null,
      "outputs": []
    },
    {
      "cell_type": "code",
      "source": [
        "x_train"
      ],
      "metadata": {
        "colab": {
          "base_uri": "https://localhost:8080/"
        },
        "id": "UlgoUWl3eq2z",
        "outputId": "c4438ee0-456d-450d-fcca-1af0d2723b22"
      },
      "execution_count": null,
      "outputs": [
        {
          "output_type": "execute_result",
          "data": {
            "text/plain": [
              "array([[-5.43256897e+02,  5.28675842e+01, -4.83773422e+00, ...,\n",
              "         3.38275539e-04,  1.65842270e-04,  7.32426124e-05],\n",
              "       [-5.14328491e+02,  2.98544731e+01, -2.14588776e+01, ...,\n",
              "         2.86292314e-04,  1.75987312e-04,  1.66227081e-04],\n",
              "       [-6.87338623e+02,  5.79782219e+01,  1.20546304e-01, ...,\n",
              "         9.61556088e-06,  4.42559667e-06,  1.58340845e-06],\n",
              "       ...,\n",
              "       [-6.01970032e+02,  3.13942509e+01, -3.05272713e+01, ...,\n",
              "         4.32201959e-05,  2.31621452e-05,  2.40006466e-05],\n",
              "       [-3.87427673e+02,  2.08523273e+01, -3.09367542e+01, ...,\n",
              "         9.86394007e-04,  6.89390348e-04,  3.32397205e-04],\n",
              "       [-6.33881592e+02,  5.07888412e+01, -4.08104467e+00, ...,\n",
              "         1.86087818e-05,  1.39995200e-05,  5.20769800e-06]])"
            ]
          },
          "metadata": {},
          "execution_count": 21
        }
      ]
    },
    {
      "cell_type": "code",
      "source": [
        "#Get the shape of the training and testing datasets\n",
        "print((x_train.shape[0], x_test.shape[0]))"
      ],
      "metadata": {
        "colab": {
          "base_uri": "https://localhost:8080/"
        },
        "id": "P7MOtfrFe1uS",
        "outputId": "fdc7d14b-3e29-49be-ddb1-497ab0079b81"
      },
      "execution_count": null,
      "outputs": [
        {
          "output_type": "stream",
          "name": "stdout",
          "text": [
            "(576, 192)\n"
          ]
        }
      ]
    },
    {
      "cell_type": "code",
      "source": [
        "#Get the number of features extracted\n",
        "print(f'Features extracted: {x_train.shape[1]}')"
      ],
      "metadata": {
        "colab": {
          "base_uri": "https://localhost:8080/"
        },
        "id": "axUcDhcqe6Je",
        "outputId": "62d48441-7ae0-41f9-8b2a-91b63ab2e68a"
      },
      "execution_count": null,
      "outputs": [
        {
          "output_type": "stream",
          "name": "stdout",
          "text": [
            "Features extracted: 180\n"
          ]
        }
      ]
    },
    {
      "cell_type": "code",
      "source": [
        "#Initialize the Multi Layer Perceptron Classifier\n",
        "model=MLPClassifier(alpha=0.01, batch_size=256, epsilon=1e-08, hidden_layer_sizes=(300,), learning_rate='adaptive', max_iter=500)"
      ],
      "metadata": {
        "id": "-hff4Pg0fCDU"
      },
      "execution_count": null,
      "outputs": []
    },
    {
      "cell_type": "code",
      "source": [
        "#Train the model\n",
        "model.fit(x_train,y_train)"
      ],
      "metadata": {
        "colab": {
          "base_uri": "https://localhost:8080/"
        },
        "id": "PkfZY65PfFLH",
        "outputId": "cd2f3893-58fb-422e-803a-745a2626e31c"
      },
      "execution_count": null,
      "outputs": [
        {
          "output_type": "execute_result",
          "data": {
            "text/plain": [
              "MLPClassifier(alpha=0.01, batch_size=256, hidden_layer_sizes=(300,),\n",
              "              learning_rate='adaptive', max_iter=500)"
            ]
          },
          "metadata": {},
          "execution_count": 25
        }
      ]
    },
    {
      "cell_type": "code",
      "source": [
        "#Predict for the test set\n",
        "y_pred=model.predict(x_test)"
      ],
      "metadata": {
        "id": "8yWiRYbWfJBJ"
      },
      "execution_count": null,
      "outputs": []
    },
    {
      "cell_type": "code",
      "source": [
        "y_pred"
      ],
      "metadata": {
        "colab": {
          "base_uri": "https://localhost:8080/"
        },
        "id": "w_t72imgfOAm",
        "outputId": "64c74db9-6d87-4e80-ba32-35f2bf64f8e2"
      },
      "execution_count": null,
      "outputs": [
        {
          "output_type": "execute_result",
          "data": {
            "text/plain": [
              "array(['disgust', 'calm', 'happy', 'fearful', 'calm', 'happy', 'disgust',\n",
              "       'disgust', 'calm', 'disgust', 'calm', 'calm', 'fearful', 'fearful',\n",
              "       'calm', 'fearful', 'fearful', 'calm', 'calm', 'fearful', 'disgust',\n",
              "       'disgust', 'disgust', 'disgust', 'happy', 'fearful', 'fearful',\n",
              "       'fearful', 'calm', 'disgust', 'calm', 'happy', 'fearful', 'happy',\n",
              "       'happy', 'fearful', 'happy', 'fearful', 'disgust', 'fearful',\n",
              "       'disgust', 'calm', 'happy', 'disgust', 'happy', 'calm', 'happy',\n",
              "       'happy', 'happy', 'calm', 'happy', 'happy', 'happy', 'fearful',\n",
              "       'fearful', 'calm', 'calm', 'fearful', 'calm', 'disgust', 'calm',\n",
              "       'calm', 'disgust', 'disgust', 'calm', 'disgust', 'disgust',\n",
              "       'happy', 'calm', 'calm', 'happy', 'happy', 'calm', 'disgust',\n",
              "       'happy', 'fearful', 'calm', 'fearful', 'disgust', 'happy',\n",
              "       'fearful', 'happy', 'calm', 'happy', 'fearful', 'fearful', 'happy',\n",
              "       'calm', 'calm', 'happy', 'happy', 'calm', 'calm', 'disgust',\n",
              "       'happy', 'happy', 'fearful', 'disgust', 'happy', 'fearful', 'calm',\n",
              "       'calm', 'happy', 'happy', 'calm', 'happy', 'fearful', 'happy',\n",
              "       'happy', 'happy', 'disgust', 'disgust', 'calm', 'disgust', 'calm',\n",
              "       'happy', 'calm', 'fearful', 'calm', 'fearful', 'calm', 'disgust',\n",
              "       'calm', 'happy', 'calm', 'calm', 'happy', 'calm', 'happy', 'calm',\n",
              "       'happy', 'calm', 'disgust', 'happy', 'happy', 'happy', 'calm',\n",
              "       'calm', 'fearful', 'calm', 'happy', 'happy', 'fearful', 'fearful',\n",
              "       'calm', 'happy', 'calm', 'happy', 'calm', 'calm', 'fearful',\n",
              "       'disgust', 'calm', 'happy', 'happy', 'calm', 'disgust', 'happy',\n",
              "       'calm', 'calm', 'happy', 'calm', 'happy', 'fearful', 'calm',\n",
              "       'happy', 'calm', 'calm', 'fearful', 'calm', 'fearful', 'happy',\n",
              "       'disgust', 'happy', 'disgust', 'disgust', 'calm', 'fearful',\n",
              "       'happy', 'fearful', 'calm', 'calm', 'calm', 'calm', 'fearful',\n",
              "       'calm', 'calm', 'calm', 'fearful', 'disgust', 'happy', 'happy'],\n",
              "      dtype='<U7')"
            ]
          },
          "metadata": {},
          "execution_count": 27
        }
      ]
    },
    {
      "cell_type": "code",
      "source": [
        "#Calculate the accuracy of our model\n",
        "accuracy=accuracy_score(y_true=y_test, y_pred=y_pred)\n",
        "\n",
        "#Print the accuracy\n",
        "print(\"Accuracy: {:.2f}%\".format(accuracy*100))"
      ],
      "metadata": {
        "colab": {
          "base_uri": "https://localhost:8080/"
        },
        "id": "nt81N316fg5j",
        "outputId": "1082f163-2fd2-41a0-c365-b49e0f13bdc8"
      },
      "execution_count": null,
      "outputs": [
        {
          "output_type": "stream",
          "name": "stdout",
          "text": [
            "Accuracy: 68.23%\n"
          ]
        }
      ]
    },
    {
      "cell_type": "code",
      "source": [
        "from sklearn.metrics import accuracy_score, f1_score"
      ],
      "metadata": {
        "id": "bvj3JvCSfrjs"
      },
      "execution_count": null,
      "outputs": []
    },
    {
      "cell_type": "code",
      "source": [
        "f1_score(y_test, y_pred,average=None)"
      ],
      "metadata": {
        "colab": {
          "base_uri": "https://localhost:8080/"
        },
        "id": "CE-Ax3g4friN",
        "outputId": "4c32d857-2e6a-49db-ad78-6786b57deddf"
      },
      "execution_count": null,
      "outputs": [
        {
          "output_type": "execute_result",
          "data": {
            "text/plain": [
              "array([0.81355932, 0.63157895, 0.71910112, 0.65346535])"
            ]
          },
          "metadata": {},
          "execution_count": 29
        }
      ]
    },
    {
      "cell_type": "code",
      "source": [
        "import pandas as pd\n",
        "df=pd.DataFrame({'Actual': y_test, 'Predicted':y_pred})\n",
        "df.head(20)"
      ],
      "metadata": {
        "colab": {
          "base_uri": "https://localhost:8080/",
          "height": 677
        },
        "id": "5650-lVwf3pS",
        "outputId": "e9fd8a22-bfa4-411b-d21b-f9ccbd6e46db"
      },
      "execution_count": null,
      "outputs": [
        {
          "output_type": "execute_result",
          "data": {
            "text/plain": [
              "     Actual Predicted\n",
              "0   disgust   disgust\n",
              "1      calm      calm\n",
              "2     happy     happy\n",
              "3   disgust   fearful\n",
              "4   disgust      calm\n",
              "5     happy     happy\n",
              "6   disgust   disgust\n",
              "7   disgust   disgust\n",
              "8   disgust      calm\n",
              "9   disgust   disgust\n",
              "10     calm      calm\n",
              "11  disgust      calm\n",
              "12  fearful   fearful\n",
              "13  fearful   fearful\n",
              "14     calm      calm\n",
              "15  fearful   fearful\n",
              "16    happy   fearful\n",
              "17     calm      calm\n",
              "18     calm      calm\n",
              "19  fearful   fearful"
            ],
            "text/html": [
              "\n",
              "  <div id=\"df-61bcf2ca-69b0-48eb-b068-3b44a05d108e\">\n",
              "    <div class=\"colab-df-container\">\n",
              "      <div>\n",
              "<style scoped>\n",
              "    .dataframe tbody tr th:only-of-type {\n",
              "        vertical-align: middle;\n",
              "    }\n",
              "\n",
              "    .dataframe tbody tr th {\n",
              "        vertical-align: top;\n",
              "    }\n",
              "\n",
              "    .dataframe thead th {\n",
              "        text-align: right;\n",
              "    }\n",
              "</style>\n",
              "<table border=\"1\" class=\"dataframe\">\n",
              "  <thead>\n",
              "    <tr style=\"text-align: right;\">\n",
              "      <th></th>\n",
              "      <th>Actual</th>\n",
              "      <th>Predicted</th>\n",
              "    </tr>\n",
              "  </thead>\n",
              "  <tbody>\n",
              "    <tr>\n",
              "      <th>0</th>\n",
              "      <td>disgust</td>\n",
              "      <td>disgust</td>\n",
              "    </tr>\n",
              "    <tr>\n",
              "      <th>1</th>\n",
              "      <td>calm</td>\n",
              "      <td>calm</td>\n",
              "    </tr>\n",
              "    <tr>\n",
              "      <th>2</th>\n",
              "      <td>happy</td>\n",
              "      <td>happy</td>\n",
              "    </tr>\n",
              "    <tr>\n",
              "      <th>3</th>\n",
              "      <td>disgust</td>\n",
              "      <td>fearful</td>\n",
              "    </tr>\n",
              "    <tr>\n",
              "      <th>4</th>\n",
              "      <td>disgust</td>\n",
              "      <td>calm</td>\n",
              "    </tr>\n",
              "    <tr>\n",
              "      <th>5</th>\n",
              "      <td>happy</td>\n",
              "      <td>happy</td>\n",
              "    </tr>\n",
              "    <tr>\n",
              "      <th>6</th>\n",
              "      <td>disgust</td>\n",
              "      <td>disgust</td>\n",
              "    </tr>\n",
              "    <tr>\n",
              "      <th>7</th>\n",
              "      <td>disgust</td>\n",
              "      <td>disgust</td>\n",
              "    </tr>\n",
              "    <tr>\n",
              "      <th>8</th>\n",
              "      <td>disgust</td>\n",
              "      <td>calm</td>\n",
              "    </tr>\n",
              "    <tr>\n",
              "      <th>9</th>\n",
              "      <td>disgust</td>\n",
              "      <td>disgust</td>\n",
              "    </tr>\n",
              "    <tr>\n",
              "      <th>10</th>\n",
              "      <td>calm</td>\n",
              "      <td>calm</td>\n",
              "    </tr>\n",
              "    <tr>\n",
              "      <th>11</th>\n",
              "      <td>disgust</td>\n",
              "      <td>calm</td>\n",
              "    </tr>\n",
              "    <tr>\n",
              "      <th>12</th>\n",
              "      <td>fearful</td>\n",
              "      <td>fearful</td>\n",
              "    </tr>\n",
              "    <tr>\n",
              "      <th>13</th>\n",
              "      <td>fearful</td>\n",
              "      <td>fearful</td>\n",
              "    </tr>\n",
              "    <tr>\n",
              "      <th>14</th>\n",
              "      <td>calm</td>\n",
              "      <td>calm</td>\n",
              "    </tr>\n",
              "    <tr>\n",
              "      <th>15</th>\n",
              "      <td>fearful</td>\n",
              "      <td>fearful</td>\n",
              "    </tr>\n",
              "    <tr>\n",
              "      <th>16</th>\n",
              "      <td>happy</td>\n",
              "      <td>fearful</td>\n",
              "    </tr>\n",
              "    <tr>\n",
              "      <th>17</th>\n",
              "      <td>calm</td>\n",
              "      <td>calm</td>\n",
              "    </tr>\n",
              "    <tr>\n",
              "      <th>18</th>\n",
              "      <td>calm</td>\n",
              "      <td>calm</td>\n",
              "    </tr>\n",
              "    <tr>\n",
              "      <th>19</th>\n",
              "      <td>fearful</td>\n",
              "      <td>fearful</td>\n",
              "    </tr>\n",
              "  </tbody>\n",
              "</table>\n",
              "</div>\n",
              "      <button class=\"colab-df-convert\" onclick=\"convertToInteractive('df-61bcf2ca-69b0-48eb-b068-3b44a05d108e')\"\n",
              "              title=\"Convert this dataframe to an interactive table.\"\n",
              "              style=\"display:none;\">\n",
              "        \n",
              "  <svg xmlns=\"http://www.w3.org/2000/svg\" height=\"24px\"viewBox=\"0 0 24 24\"\n",
              "       width=\"24px\">\n",
              "    <path d=\"M0 0h24v24H0V0z\" fill=\"none\"/>\n",
              "    <path d=\"M18.56 5.44l.94 2.06.94-2.06 2.06-.94-2.06-.94-.94-2.06-.94 2.06-2.06.94zm-11 1L8.5 8.5l.94-2.06 2.06-.94-2.06-.94L8.5 2.5l-.94 2.06-2.06.94zm10 10l.94 2.06.94-2.06 2.06-.94-2.06-.94-.94-2.06-.94 2.06-2.06.94z\"/><path d=\"M17.41 7.96l-1.37-1.37c-.4-.4-.92-.59-1.43-.59-.52 0-1.04.2-1.43.59L10.3 9.45l-7.72 7.72c-.78.78-.78 2.05 0 2.83L4 21.41c.39.39.9.59 1.41.59.51 0 1.02-.2 1.41-.59l7.78-7.78 2.81-2.81c.8-.78.8-2.07 0-2.86zM5.41 20L4 18.59l7.72-7.72 1.47 1.35L5.41 20z\"/>\n",
              "  </svg>\n",
              "      </button>\n",
              "      \n",
              "  <style>\n",
              "    .colab-df-container {\n",
              "      display:flex;\n",
              "      flex-wrap:wrap;\n",
              "      gap: 12px;\n",
              "    }\n",
              "\n",
              "    .colab-df-convert {\n",
              "      background-color: #E8F0FE;\n",
              "      border: none;\n",
              "      border-radius: 50%;\n",
              "      cursor: pointer;\n",
              "      display: none;\n",
              "      fill: #1967D2;\n",
              "      height: 32px;\n",
              "      padding: 0 0 0 0;\n",
              "      width: 32px;\n",
              "    }\n",
              "\n",
              "    .colab-df-convert:hover {\n",
              "      background-color: #E2EBFA;\n",
              "      box-shadow: 0px 1px 2px rgba(60, 64, 67, 0.3), 0px 1px 3px 1px rgba(60, 64, 67, 0.15);\n",
              "      fill: #174EA6;\n",
              "    }\n",
              "\n",
              "    [theme=dark] .colab-df-convert {\n",
              "      background-color: #3B4455;\n",
              "      fill: #D2E3FC;\n",
              "    }\n",
              "\n",
              "    [theme=dark] .colab-df-convert:hover {\n",
              "      background-color: #434B5C;\n",
              "      box-shadow: 0px 1px 3px 1px rgba(0, 0, 0, 0.15);\n",
              "      filter: drop-shadow(0px 1px 2px rgba(0, 0, 0, 0.3));\n",
              "      fill: #FFFFFF;\n",
              "    }\n",
              "  </style>\n",
              "\n",
              "      <script>\n",
              "        const buttonEl =\n",
              "          document.querySelector('#df-61bcf2ca-69b0-48eb-b068-3b44a05d108e button.colab-df-convert');\n",
              "        buttonEl.style.display =\n",
              "          google.colab.kernel.accessAllowed ? 'block' : 'none';\n",
              "\n",
              "        async function convertToInteractive(key) {\n",
              "          const element = document.querySelector('#df-61bcf2ca-69b0-48eb-b068-3b44a05d108e');\n",
              "          const dataTable =\n",
              "            await google.colab.kernel.invokeFunction('convertToInteractive',\n",
              "                                                     [key], {});\n",
              "          if (!dataTable) return;\n",
              "\n",
              "          const docLinkHtml = 'Like what you see? Visit the ' +\n",
              "            '<a target=\"_blank\" href=https://colab.research.google.com/notebooks/data_table.ipynb>data table notebook</a>'\n",
              "            + ' to learn more about interactive tables.';\n",
              "          element.innerHTML = '';\n",
              "          dataTable['output_type'] = 'display_data';\n",
              "          await google.colab.output.renderOutput(dataTable, element);\n",
              "          const docLink = document.createElement('div');\n",
              "          docLink.innerHTML = docLinkHtml;\n",
              "          element.appendChild(docLink);\n",
              "        }\n",
              "      </script>\n",
              "    </div>\n",
              "  </div>\n",
              "  "
            ]
          },
          "metadata": {},
          "execution_count": 30
        }
      ]
    },
    {
      "cell_type": "code",
      "source": [
        "import pickle\n",
        "# Writing different model files to file\n",
        "with open( 'modelForPrediction1.sav', 'wb') as f:\n",
        "    pickle.dump(model,f)"
      ],
      "metadata": {
        "id": "oRufnyMQf9Nw"
      },
      "execution_count": null,
      "outputs": []
    },
    {
      "cell_type": "code",
      "source": [
        "filename = 'modelForPrediction1.sav'\n",
        "loaded_model = pickle.load(open(filename, 'rb')) # loading the model file from the storage\n",
        "\n",
        "feature=extract_feature(\"//content/drive/MyDrive/speech-emotion-recognition-ravdess-data/Actor_01/03-01-01-01-01-01-01.wav\", mfcc=True, chroma=True, mel=True)\n",
        "\n",
        "feature=feature.reshape(1,-1)\n",
        "\n",
        "prediction=loaded_model.predict(feature)\n",
        "prediction"
      ],
      "metadata": {
        "colab": {
          "base_uri": "https://localhost:8080/"
        },
        "id": "0vrDJSi7gCaX",
        "outputId": "22e140a3-3ddf-4f39-98b0-46cab50d2c04"
      },
      "execution_count": null,
      "outputs": [
        {
          "output_type": "execute_result",
          "data": {
            "text/plain": [
              "array(['happy'], dtype='<U7')"
            ]
          },
          "metadata": {},
          "execution_count": 32
        }
      ]
    },
    {
      "cell_type": "code",
      "source": [
        "feature"
      ],
      "metadata": {
        "colab": {
          "base_uri": "https://localhost:8080/"
        },
        "id": "fZO2sE4Bgwsw",
        "outputId": "40caa4f2-a965-49e6-b655-63d9b400019d"
      },
      "execution_count": null,
      "outputs": [
        {
          "output_type": "execute_result",
          "data": {
            "text/plain": [
              "array([[-6.93497009e+02,  5.00643921e+01,  5.71450531e-01,\n",
              "         1.43299656e+01,  3.33637071e+00, -2.54071975e+00,\n",
              "        -4.05790949e+00, -1.07119999e+01, -7.29413939e+00,\n",
              "         1.74018872e+00, -4.19064236e+00,  1.95466173e+00,\n",
              "        -5.24789381e+00,  2.78142977e+00, -3.16756773e+00,\n",
              "        -3.40008307e+00, -2.37803197e+00, -5.68717539e-01,\n",
              "        -6.47753334e+00, -1.24320555e+00, -2.80542517e+00,\n",
              "        -5.43635798e+00, -4.46875393e-01, -3.63516593e+00,\n",
              "        -2.98372602e+00, -5.63902557e-01, -1.65101993e+00,\n",
              "        -5.55944741e-01, -3.41018438e+00, -2.24465466e+00,\n",
              "        -3.13058877e+00, -2.70089960e+00, -1.88821292e+00,\n",
              "        -5.54154456e-01, -3.96459913e+00, -2.13485193e+00,\n",
              "        -3.94577074e+00, -1.62457860e+00, -2.03990698e+00,\n",
              "        -3.62910867e+00,  6.33751631e-01,  6.48747087e-01,\n",
              "         6.21731520e-01,  6.34555459e-01,  6.60326064e-01,\n",
              "         6.60485923e-01,  7.00930357e-01,  7.31556237e-01,\n",
              "         7.46886790e-01,  7.23434567e-01,  7.16107428e-01,\n",
              "         6.30602121e-01,  6.52830693e-07,  2.22643266e-05,\n",
              "         8.42613052e-04,  1.37719270e-02,  2.83742324e-02,\n",
              "         3.12111378e-02,  8.02663807e-03,  3.56961833e-03,\n",
              "         2.32551787e-02,  2.45211683e-02,  1.87926665e-02,\n",
              "         2.44478174e-02,  1.16031338e-02,  8.60342197e-03,\n",
              "         6.71913056e-03,  9.94843338e-03,  1.89656094e-02,\n",
              "         5.04483357e-02,  4.14051339e-02,  9.96424630e-03,\n",
              "         9.64601431e-03,  1.54170115e-02,  4.05186079e-02,\n",
              "         2.10739672e-02,  2.12946697e-03,  2.76945531e-03,\n",
              "         5.57055743e-03,  1.91831719e-02,  1.36224311e-02,\n",
              "         1.21960300e-03,  6.94197835e-04,  8.96891870e-04,\n",
              "         8.47186951e-04,  3.62369756e-04,  2.21950642e-04,\n",
              "         1.40306875e-04,  2.73740763e-04,  3.75907082e-04,\n",
              "         8.28741526e-04,  8.59786058e-04,  6.12733071e-04,\n",
              "         3.95248993e-04,  2.20409798e-04,  3.04378307e-04,\n",
              "         1.89061835e-03,  1.24956470e-03,  1.03854900e-03,\n",
              "         2.60822102e-03,  3.86649882e-03,  4.33528004e-03,\n",
              "         9.54611111e-04,  4.93530591e-04,  4.47093364e-04,\n",
              "         8.03626666e-04,  7.09871238e-04,  3.92192771e-04,\n",
              "         6.18621008e-04,  9.43593972e-04,  7.60865514e-04,\n",
              "         7.23498932e-04,  1.00387214e-03,  9.19646351e-04,\n",
              "         8.18870671e-04,  5.08129189e-04,  4.11667366e-04,\n",
              "         4.03237646e-04,  1.48571402e-04,  6.84264640e-04,\n",
              "         1.38615607e-03,  2.92808865e-04,  5.09449237e-05,\n",
              "         7.45297148e-05,  1.39878655e-04,  8.93816250e-05,\n",
              "         1.35135124e-04,  1.09651715e-04,  2.46569631e-04,\n",
              "         7.43343204e-04,  4.77164402e-04,  6.96408853e-04,\n",
              "         4.74705710e-04,  2.55434716e-04,  1.59143689e-04,\n",
              "         8.08707482e-05,  9.79213364e-05,  8.84003894e-05,\n",
              "         9.75710209e-05,  1.17046940e-04,  1.84339995e-04,\n",
              "         1.69435385e-04,  2.55546009e-04,  2.40519148e-04,\n",
              "         4.28831205e-04,  2.98486266e-04,  4.27471416e-04,\n",
              "         1.06324660e-04,  5.85673406e-05,  2.31044742e-05,\n",
              "         8.89405237e-06,  1.98013931e-05,  1.09333178e-05,\n",
              "         3.66455424e-05,  3.68459878e-05,  5.25096366e-05,\n",
              "         3.77127617e-05,  8.86667185e-05,  7.79374823e-05,\n",
              "         4.24979589e-05,  6.51855808e-05,  3.53608302e-05,\n",
              "         2.41367925e-05,  2.45215579e-05,  2.89214531e-05,\n",
              "         3.95157222e-05,  2.72971338e-05,  1.96686051e-05,\n",
              "         1.51977429e-05,  1.06007192e-05,  7.99631744e-06,\n",
              "         6.07571883e-06,  4.48540641e-06,  4.12061945e-06,\n",
              "         3.71885676e-06,  3.93320988e-06,  3.48488379e-06,\n",
              "         4.07551670e-06,  1.81608038e-06,  7.83327664e-07]])"
            ]
          },
          "metadata": {},
          "execution_count": 33
        }
      ]
    },
    {
      "cell_type": "code",
      "source": [
        "!pip install librosa"
      ],
      "metadata": {
        "colab": {
          "base_uri": "https://localhost:8080/"
        },
        "id": "yFOmliF-zmSd",
        "outputId": "d863f1ab-f5a4-4f39-d4dd-61508c7ce5d5"
      },
      "execution_count": null,
      "outputs": [
        {
          "output_type": "stream",
          "name": "stdout",
          "text": [
            "Requirement already satisfied: librosa in /usr/local/lib/python3.7/dist-packages (0.8.1)\n",
            "Requirement already satisfied: joblib>=0.14 in /usr/local/lib/python3.7/dist-packages (from librosa) (1.1.0)\n",
            "Requirement already satisfied: scikit-learn!=0.19.0,>=0.14.0 in /usr/local/lib/python3.7/dist-packages (from librosa) (1.0.2)\n",
            "Requirement already satisfied: resampy>=0.2.2 in /usr/local/lib/python3.7/dist-packages (from librosa) (0.2.2)\n",
            "Requirement already satisfied: pooch>=1.0 in /usr/local/lib/python3.7/dist-packages (from librosa) (1.6.0)\n",
            "Requirement already satisfied: audioread>=2.0.0 in /usr/local/lib/python3.7/dist-packages (from librosa) (2.1.9)\n",
            "Requirement already satisfied: decorator>=3.0.0 in /usr/local/lib/python3.7/dist-packages (from librosa) (4.4.2)\n",
            "Requirement already satisfied: soundfile>=0.10.2 in /usr/local/lib/python3.7/dist-packages (from librosa) (0.10.3.post1)\n",
            "Requirement already satisfied: numba>=0.43.0 in /usr/local/lib/python3.7/dist-packages (from librosa) (0.51.2)\n",
            "Requirement already satisfied: scipy>=1.0.0 in /usr/local/lib/python3.7/dist-packages (from librosa) (1.4.1)\n",
            "Requirement already satisfied: packaging>=20.0 in /usr/local/lib/python3.7/dist-packages (from librosa) (21.3)\n",
            "Requirement already satisfied: numpy>=1.15.0 in /usr/local/lib/python3.7/dist-packages (from librosa) (1.21.6)\n",
            "Requirement already satisfied: setuptools in /usr/local/lib/python3.7/dist-packages (from numba>=0.43.0->librosa) (57.4.0)\n",
            "Requirement already satisfied: llvmlite<0.35,>=0.34.0.dev0 in /usr/local/lib/python3.7/dist-packages (from numba>=0.43.0->librosa) (0.34.0)\n",
            "Requirement already satisfied: pyparsing!=3.0.5,>=2.0.2 in /usr/local/lib/python3.7/dist-packages (from packaging>=20.0->librosa) (3.0.9)\n",
            "Requirement already satisfied: appdirs>=1.3.0 in /usr/local/lib/python3.7/dist-packages (from pooch>=1.0->librosa) (1.4.4)\n",
            "Requirement already satisfied: requests>=2.19.0 in /usr/local/lib/python3.7/dist-packages (from pooch>=1.0->librosa) (2.23.0)\n",
            "Requirement already satisfied: urllib3!=1.25.0,!=1.25.1,<1.26,>=1.21.1 in /usr/local/lib/python3.7/dist-packages (from requests>=2.19.0->pooch>=1.0->librosa) (1.24.3)\n",
            "Requirement already satisfied: chardet<4,>=3.0.2 in /usr/local/lib/python3.7/dist-packages (from requests>=2.19.0->pooch>=1.0->librosa) (3.0.4)\n",
            "Requirement already satisfied: idna<3,>=2.5 in /usr/local/lib/python3.7/dist-packages (from requests>=2.19.0->pooch>=1.0->librosa) (2.10)\n",
            "Requirement already satisfied: certifi>=2017.4.17 in /usr/local/lib/python3.7/dist-packages (from requests>=2.19.0->pooch>=1.0->librosa) (2021.10.8)\n",
            "Requirement already satisfied: six>=1.3 in /usr/local/lib/python3.7/dist-packages (from resampy>=0.2.2->librosa) (1.15.0)\n",
            "Requirement already satisfied: threadpoolctl>=2.0.0 in /usr/local/lib/python3.7/dist-packages (from scikit-learn!=0.19.0,>=0.14.0->librosa) (3.1.0)\n",
            "Requirement already satisfied: cffi>=1.0 in /usr/local/lib/python3.7/dist-packages (from soundfile>=0.10.2->librosa) (1.15.0)\n",
            "Requirement already satisfied: pycparser in /usr/local/lib/python3.7/dist-packages (from cffi>=1.0->soundfile>=0.10.2->librosa) (2.21)\n"
          ]
        }
      ]
    },
    {
      "cell_type": "code",
      "source": [
        "import librosa\n",
        "from librosa import display\n",
        "\n",
        "data, sampling_rate = librosa.load('/content/drive/MyDrive/speech-emotion-recognition-ravdess-data/Actor_03/03-01-01-01-02-02-03.wav')"
      ],
      "metadata": {
        "id": "VxJZ4FWYzyRy"
      },
      "execution_count": null,
      "outputs": []
    },
    {
      "cell_type": "code",
      "source": [
        "% pylab inline\n",
        "import matplotlib.pyplot as plt\n",
        "\n",
        "plt.figure(figsize=(12, 4))\n",
        "librosa.display.waveplot(data, sr=sampling_rate)"
      ],
      "metadata": {
        "colab": {
          "base_uri": "https://localhost:8080/",
          "height": 386
        },
        "id": "FjDTslkv0QLC",
        "outputId": "9e441db3-df56-492a-c624-0c77c415a9b7"
      },
      "execution_count": null,
      "outputs": [
        {
          "output_type": "stream",
          "name": "stdout",
          "text": [
            "Populating the interactive namespace from numpy and matplotlib\n"
          ]
        },
        {
          "output_type": "stream",
          "name": "stderr",
          "text": [
            "/usr/local/lib/python3.7/dist-packages/IPython/core/magics/pylab.py:161: UserWarning: pylab import has clobbered these variables: ['display', 'f']\n",
            "`%matplotlib` prevents importing * from pylab and numpy\n",
            "  \"\\n`%matplotlib` prevents importing * from pylab and numpy\"\n"
          ]
        },
        {
          "output_type": "execute_result",
          "data": {
            "text/plain": [
              "<matplotlib.collections.PolyCollection at 0x7efe7928bdd0>"
            ]
          },
          "metadata": {},
          "execution_count": 36
        },
        {
          "output_type": "display_data",
          "data": {
            "text/plain": [
              "<Figure size 864x288 with 1 Axes>"
            ],
            "image/png": "[encoded data removed]"
          },
          "metadata": {
            "needs_background": "light"
          }
        }
      ]
    }
  ]
}