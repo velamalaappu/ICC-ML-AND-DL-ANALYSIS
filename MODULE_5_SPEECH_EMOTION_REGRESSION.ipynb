{
  "nbformat": 4,
  "nbformat_minor": 0,
  "metadata": {
    "colab": {
      "name": "MODULE 5 SPEECH EMOTION REGRESSION.ipynb",
      "provenance": [],
      "collapsed_sections": [],
      "mount_file_id": "1b1uXZZYbFjWTYA7BALZPhUl92MSujbGY",
      "authorship_tag": "ABX9TyNFve0RB27ZoEhaLjcIdmIZ",
      "include_colab_link": true
    },
    "kernelspec": {
      "name": "python3",
      "display_name": "Python 3"
    },
    "language_info": {
      "name": "python"
    }
  },
  "cells": [
    {
      "cell_type": "markdown",
      "metadata": {
        "id": "view-in-github",
        "colab_type": "text"
      },
      "source": [
        "<a href=\"https://colab.research.google.com/github/velamalaappu/ICC-ML-AND-DL-ANALYSIS/blob/main/MODULE_5_SPEECH_EMOTION_REGRESSION.ipynb\" target=\"_parent\"><img src=\"https://colab.research.google.com/assets/colab-badge.svg\" alt=\"Open In Colab\"/></a>"
      ]
    },
    {
      "cell_type": "markdown",
      "source": [
        "# **SPEECH EMOTION REGRESSION**"
      ],
      "metadata": {
        "id": "8ydixuvAlpVy"
      }
    },
    {
      "cell_type": "markdown",
      "source": [
        "### **PROBLEM STATEMENT**"
      ],
      "metadata": {
        "id": "yzXrRAKulWLv"
      }
    },
    {
      "cell_type": "markdown",
      "source": [
        "Verbal Communication is valuable and sought after in workplace and classroom environments alike.\n",
        "There is no denying the notion that Indians lack verbal communication and consequently lag behind in\n",
        "the workplace or classroom environments. This happens despite them having strong technical\n",
        "competencies. Clear and comprehensive speech is the vital backbone of strong communication and\n",
        "presentation skills. Where some occupations consist mainly of presenting, most careers require and\n",
        "thrive from the ability to communicate effectively. Research has shown that verbal communication\n",
        "remains one of the most employable skills in both the perception of employers and new graduates. Of\n",
        "the possible improvements to vocal presentations tone, disfluencies, and stutters, in particular, remain\n",
        "one of the most common and prominent factors of someone’s demonstration. Millions of people are\n",
        "affected by stuttering and other speech disfluencies, with the majority of the world having experienced\n",
        "mild stutters while communicating under stressful conditions. Research shows that mild disfluencies\n",
        "can be cured without medical help, just practicing speech regularly and constructive feedbacks are\n",
        "effective ways to improve.\n",
        "We, Data Scientists recognize this problem and say hello.We will solve the above-mentioned problem by applying deep learning algorithms to audio/speech\n",
        "data. The solution will be to identify emotions in speech."
      ],
      "metadata": {
        "id": "ubmuKBGvlFgg"
      }
    },
    {
      "cell_type": "code",
      "source": [
        ""
      ],
      "metadata": {
        "id": "VwrChqk3l2ff"
      },
      "execution_count": null,
      "outputs": []
    },
    {
      "cell_type": "code",
      "execution_count": null,
      "metadata": {
        "id": "DBAKcDCUbqT4"
      },
      "outputs": [],
      "source": [
        "import os\n",
        "Root = \"/content/drive/MyDrive/speech-emotion-recognition-ravdess-data\"\n",
        "os.chdir(Root)"
      ]
    },
    {
      "cell_type": "code",
      "source": [
        "ls"
      ],
      "metadata": {
        "colab": {
          "base_uri": "https://localhost:8080/"
        },
        "id": "ljSgJyM4dmA-",
        "outputId": "b2c1c6da-0e79-4aa8-8597-919dc70596ed"
      },
      "execution_count": null,
      "outputs": [
        {
          "output_type": "stream",
          "name": "stdout",
          "text": [
            "\u001b[0m\u001b[01;34mActor_01\u001b[0m/  \u001b[01;34mActor_06\u001b[0m/  \u001b[01;34mActor_11\u001b[0m/  \u001b[01;34mActor_16\u001b[0m/  \u001b[01;34mActor_21\u001b[0m/\n",
            "\u001b[01;34mActor_02\u001b[0m/  \u001b[01;34mActor_07\u001b[0m/  \u001b[01;34mActor_12\u001b[0m/  \u001b[01;34mActor_17\u001b[0m/  \u001b[01;34mActor_22\u001b[0m/\n",
            "\u001b[01;34mActor_03\u001b[0m/  \u001b[01;34mActor_08\u001b[0m/  \u001b[01;34mActor_13\u001b[0m/  \u001b[01;34mActor_18\u001b[0m/  \u001b[01;34mActor_23\u001b[0m/\n",
            "\u001b[01;34mActor_04\u001b[0m/  \u001b[01;34mActor_09\u001b[0m/  \u001b[01;34mActor_14\u001b[0m/  \u001b[01;34mActor_19\u001b[0m/  \u001b[01;34mActor_24\u001b[0m/\n",
            "\u001b[01;34mActor_05\u001b[0m/  \u001b[01;34mActor_10\u001b[0m/  \u001b[01;34mActor_15\u001b[0m/  \u001b[01;34mActor_20\u001b[0m/  modelForPrediction1.sav\n"
          ]
        }
      ]
    },
    {
      "cell_type": "code",
      "source": [
        "import librosa\n",
        "import soundfile\n",
        "import os, glob, pickle\n",
        "import numpy as np\n",
        "from sklearn.model_selection import train_test_split\n",
        "from sklearn.neural_network import MLPClassifier\n",
        "from sklearn.metrics import accuracy_score"
      ],
      "metadata": {
        "id": "xKdKBQp-dqTU"
      },
      "execution_count": null,
      "outputs": []
    },
    {
      "cell_type": "code",
      "source": [
        "import librosa\n",
        "import soundfile\n",
        "import os, glob, pickle\n",
        "import numpy as np\n",
        "from sklearn.model_selection import train_test_split\n",
        "from sklearn.neural_network import MLPClassifier\n",
        "from sklearn.metrics import accuracy_score"
      ],
      "metadata": {
        "id": "Oepg43Lld6f-"
      },
      "execution_count": null,
      "outputs": []
    },
    {
      "cell_type": "code",
      "source": [
        "#Extract features (mfcc, chroma, mel) from a sound file\n",
        "def extract_feature(file_name, mfcc, chroma, mel):\n",
        "    with soundfile.SoundFile(file_name) as sound_file:\n",
        "        X = sound_file.read(dtype=\"float32\")\n",
        "        sample_rate=sound_file.samplerate\n",
        "        if chroma:\n",
        "            stft=np.abs(librosa.stft(X))\n",
        "        result=np.array([])\n",
        "        if mfcc:\n",
        "            mfccs=np.mean(librosa.feature.mfcc(y=X, sr=sample_rate, n_mfcc=40).T, axis=0)\n",
        "            result=np.hstack((result, mfccs))\n",
        "        if chroma:\n",
        "            chroma=np.mean(librosa.feature.chroma_stft(S=stft, sr=sample_rate).T,axis=0)\n",
        "            result=np.hstack((result, chroma))\n",
        "        if mel:\n",
        "            mel=np.mean(librosa.feature.melspectrogram(X, sr=sample_rate).T,axis=0)\n",
        "            result=np.hstack((result, mel))\n",
        "    return result"
      ],
      "metadata": {
        "id": "q6YsWeRKeFVa"
      },
      "execution_count": null,
      "outputs": []
    },
    {
      "cell_type": "code",
      "source": [
        "# Emotions in the RAVDESS dataset\n",
        "emotions={\n",
        "  '01':'neutral',\n",
        "  '02':'calm',\n",
        "  '03':'happy',\n",
        "  '04':'sad',\n",
        "  '05':'angry',\n",
        "  '06':'fearful',\n",
        "  '07':'disgust',\n",
        "  '08':'surprised'\n",
        "}\n",
        "\n",
        "#Emotions to observe\n",
        "observed_emotions=['calm', 'happy', 'fearful', 'disgust']"
      ],
      "metadata": {
        "id": "3Kx7dCMEeK65"
      },
      "execution_count": null,
      "outputs": []
    },
    {
      "cell_type": "code",
      "source": [
        "#Load the data and extract features for each sound file\n",
        "def load_data(test_size=0.2):\n",
        "    x,y=[],[]\n",
        "    for file in glob.glob(\"/content/drive/MyDrive/speech-emotion-recognition-ravdess-data/Actor_*/*.wav\"):\n",
        "        file_name=os.path.basename(file)\n",
        "        emotion=emotions[file_name.split(\"-\")[2]]\n",
        "        if emotion not in observed_emotions:\n",
        "            continue\n",
        "        feature=extract_feature(file, mfcc=True, chroma=True, mel=True)\n",
        "        x.append(feature)\n",
        "        y.append(emotion)\n",
        "    return train_test_split(np.array(x), y, test_size=test_size, random_state=9)"
      ],
      "metadata": {
        "id": "ujEzl5neeWsv"
      },
      "execution_count": null,
      "outputs": []
    },
    {
      "cell_type": "code",
      "source": [
        "#Split the dataset\n",
        "x_train,x_test,y_train,y_test=load_data(test_size=0.25)"
      ],
      "metadata": {
        "id": "F_D0AJr7ekmS"
      },
      "execution_count": null,
      "outputs": []
    },
    {
      "cell_type": "code",
      "source": [
        "x_train"
      ],
      "metadata": {
        "colab": {
          "base_uri": "https://localhost:8080/"
        },
        "id": "UlgoUWl3eq2z",
        "outputId": "c4438ee0-456d-450d-fcca-1af0d2723b22"
      },
      "execution_count": null,
      "outputs": [
        {
          "output_type": "execute_result",
          "data": {
            "text/plain": [
              "array([[-5.43256897e+02,  5.28675842e+01, -4.83773422e+00, ...,\n",
              "         3.38275539e-04,  1.65842270e-04,  7.32426124e-05],\n",
              "       [-5.14328491e+02,  2.98544731e+01, -2.14588776e+01, ...,\n",
              "         2.86292314e-04,  1.75987312e-04,  1.66227081e-04],\n",
              "       [-6.87338623e+02,  5.79782219e+01,  1.20546304e-01, ...,\n",
              "         9.61556088e-06,  4.42559667e-06,  1.58340845e-06],\n",
              "       ...,\n",
              "       [-6.01970032e+02,  3.13942509e+01, -3.05272713e+01, ...,\n",
              "         4.32201959e-05,  2.31621452e-05,  2.40006466e-05],\n",
              "       [-3.87427673e+02,  2.08523273e+01, -3.09367542e+01, ...,\n",
              "         9.86394007e-04,  6.89390348e-04,  3.32397205e-04],\n",
              "       [-6.33881592e+02,  5.07888412e+01, -4.08104467e+00, ...,\n",
              "         1.86087818e-05,  1.39995200e-05,  5.20769800e-06]])"
            ]
          },
          "metadata": {},
          "execution_count": 21
        }
      ]
    },
    {
      "cell_type": "code",
      "source": [
        "#Get the shape of the training and testing datasets\n",
        "print((x_train.shape[0], x_test.shape[0]))"
      ],
      "metadata": {
        "colab": {
          "base_uri": "https://localhost:8080/"
        },
        "id": "P7MOtfrFe1uS",
        "outputId": "fdc7d14b-3e29-49be-ddb1-497ab0079b81"
      },
      "execution_count": null,
      "outputs": [
        {
          "output_type": "stream",
          "name": "stdout",
          "text": [
            "(576, 192)\n"
          ]
        }
      ]
    },
    {
      "cell_type": "code",
      "source": [
        "#Get the number of features extracted\n",
        "print(f'Features extracted: {x_train.shape[1]}')"
      ],
      "metadata": {
        "colab": {
          "base_uri": "https://localhost:8080/"
        },
        "id": "axUcDhcqe6Je",
        "outputId": "62d48441-7ae0-41f9-8b2a-91b63ab2e68a"
      },
      "execution_count": null,
      "outputs": [
        {
          "output_type": "stream",
          "name": "stdout",
          "text": [
            "Features extracted: 180\n"
          ]
        }
      ]
    },
    {
      "cell_type": "code",
      "source": [
        "#Initialize the Multi Layer Perceptron Classifier\n",
        "model=MLPClassifier(alpha=0.01, batch_size=256, epsilon=1e-08, hidden_layer_sizes=(300,), learning_rate='adaptive', max_iter=500)"
      ],
      "metadata": {
        "id": "-hff4Pg0fCDU"
      },
      "execution_count": null,
      "outputs": []
    },
    {
      "cell_type": "code",
      "source": [
        "#Train the model\n",
        "model.fit(x_train,y_train)"
      ],
      "metadata": {
        "colab": {
          "base_uri": "https://localhost:8080/"
        },
        "id": "PkfZY65PfFLH",
        "outputId": "cd2f3893-58fb-422e-803a-745a2626e31c"
      },
      "execution_count": null,
      "outputs": [
        {
          "output_type": "execute_result",
          "data": {
            "text/plain": [
              "MLPClassifier(alpha=0.01, batch_size=256, hidden_layer_sizes=(300,),\n",
              "              learning_rate='adaptive', max_iter=500)"
            ]
          },
          "metadata": {},
          "execution_count": 25
        }
      ]
    },
    {
      "cell_type": "code",
      "source": [
        "#Predict for the test set\n",
        "y_pred=model.predict(x_test)"
      ],
      "metadata": {
        "id": "8yWiRYbWfJBJ"
      },
      "execution_count": null,
      "outputs": []
    },
    {
      "cell_type": "code",
      "source": [
        "y_pred"
      ],
      "metadata": {
        "colab": {
          "base_uri": "https://localhost:8080/"
        },
        "id": "w_t72imgfOAm",
        "outputId": "64c74db9-6d87-4e80-ba32-35f2bf64f8e2"
      },
      "execution_count": null,
      "outputs": [
        {
          "output_type": "execute_result",
          "data": {
            "text/plain": [
              "array(['disgust', 'calm', 'happy', 'fearful', 'calm', 'happy', 'disgust',\n",
              "       'disgust', 'calm', 'disgust', 'calm', 'calm', 'fearful', 'fearful',\n",
              "       'calm', 'fearful', 'fearful', 'calm', 'calm', 'fearful', 'disgust',\n",
              "       'disgust', 'disgust', 'disgust', 'happy', 'fearful', 'fearful',\n",
              "       'fearful', 'calm', 'disgust', 'calm', 'happy', 'fearful', 'happy',\n",
              "       'happy', 'fearful', 'happy', 'fearful', 'disgust', 'fearful',\n",
              "       'disgust', 'calm', 'happy', 'disgust', 'happy', 'calm', 'happy',\n",
              "       'happy', 'happy', 'calm', 'happy', 'happy', 'happy', 'fearful',\n",
              "       'fearful', 'calm', 'calm', 'fearful', 'calm', 'disgust', 'calm',\n",
              "       'calm', 'disgust', 'disgust', 'calm', 'disgust', 'disgust',\n",
              "       'happy', 'calm', 'calm', 'happy', 'happy', 'calm', 'disgust',\n",
              "       'happy', 'fearful', 'calm', 'fearful', 'disgust', 'happy',\n",
              "       'fearful', 'happy', 'calm', 'happy', 'fearful', 'fearful', 'happy',\n",
              "       'calm', 'calm', 'happy', 'happy', 'calm', 'calm', 'disgust',\n",
              "       'happy', 'happy', 'fearful', 'disgust', 'happy', 'fearful', 'calm',\n",
              "       'calm', 'happy', 'happy', 'calm', 'happy', 'fearful', 'happy',\n",
              "       'happy', 'happy', 'disgust', 'disgust', 'calm', 'disgust', 'calm',\n",
              "       'happy', 'calm', 'fearful', 'calm', 'fearful', 'calm', 'disgust',\n",
              "       'calm', 'happy', 'calm', 'calm', 'happy', 'calm', 'happy', 'calm',\n",
              "       'happy', 'calm', 'disgust', 'happy', 'happy', 'happy', 'calm',\n",
              "       'calm', 'fearful', 'calm', 'happy', 'happy', 'fearful', 'fearful',\n",
              "       'calm', 'happy', 'calm', 'happy', 'calm', 'calm', 'fearful',\n",
              "       'disgust', 'calm', 'happy', 'happy', 'calm', 'disgust', 'happy',\n",
              "       'calm', 'calm', 'happy', 'calm', 'happy', 'fearful', 'calm',\n",
              "       'happy', 'calm', 'calm', 'fearful', 'calm', 'fearful', 'happy',\n",
              "       'disgust', 'happy', 'disgust', 'disgust', 'calm', 'fearful',\n",
              "       'happy', 'fearful', 'calm', 'calm', 'calm', 'calm', 'fearful',\n",
              "       'calm', 'calm', 'calm', 'fearful', 'disgust', 'happy', 'happy'],\n",
              "      dtype='<U7')"
            ]
          },
          "metadata": {},
          "execution_count": 27
        }
      ]
    },
    {
      "cell_type": "code",
      "source": [
        "#Calculate the accuracy of our model\n",
        "accuracy=accuracy_score(y_true=y_test, y_pred=y_pred)\n",
        "\n",
        "#Print the accuracy\n",
        "print(\"Accuracy: {:.2f}%\".format(accuracy*100))"
      ],
      "metadata": {
        "colab": {
          "base_uri": "https://localhost:8080/"
        },
        "id": "nt81N316fg5j",
        "outputId": "1082f163-2fd2-41a0-c365-b49e0f13bdc8"
      },
      "execution_count": null,
      "outputs": [
        {
          "output_type": "stream",
          "name": "stdout",
          "text": [
            "Accuracy: 68.23%\n"
          ]
        }
      ]
    },
    {
      "cell_type": "code",
      "source": [
        "from sklearn.metrics import accuracy_score, f1_score"
      ],
      "metadata": {
        "id": "bvj3JvCSfrjs"
      },
      "execution_count": null,
      "outputs": []
    },
    {
      "cell_type": "code",
      "source": [
        "f1_score(y_test, y_pred,average=None)"
      ],
      "metadata": {
        "colab": {
          "base_uri": "https://localhost:8080/"
        },
        "id": "CE-Ax3g4friN",
        "outputId": "4c32d857-2e6a-49db-ad78-6786b57deddf"
      },
      "execution_count": null,
      "outputs": [
        {
          "output_type": "execute_result",
          "data": {
            "text/plain": [
              "array([0.81355932, 0.63157895, 0.71910112, 0.65346535])"
            ]
          },
          "metadata": {},
          "execution_count": 29
        }
      ]
    },
    {
      "cell_type": "code",
      "source": [
        "import pandas as pd\n",
        "df=pd.DataFrame({'Actual': y_test, 'Predicted':y_pred})\n",
        "df.head(20)"
      ],
      "metadata": {
        "colab": {
          "base_uri": "https://localhost:8080/",
          "height": 677
        },
        "id": "5650-lVwf3pS",
        "outputId": "e9fd8a22-bfa4-411b-d21b-f9ccbd6e46db"
      },
      "execution_count": null,
      "outputs": [
        {
          "output_type": "execute_result",
          "data": {
            "text/plain": [
              "     Actual Predicted\n",
              "0   disgust   disgust\n",
              "1      calm      calm\n",
              "2     happy     happy\n",
              "3   disgust   fearful\n",
              "4   disgust      calm\n",
              "5     happy     happy\n",
              "6   disgust   disgust\n",
              "7   disgust   disgust\n",
              "8   disgust      calm\n",
              "9   disgust   disgust\n",
              "10     calm      calm\n",
              "11  disgust      calm\n",
              "12  fearful   fearful\n",
              "13  fearful   fearful\n",
              "14     calm      calm\n",
              "15  fearful   fearful\n",
              "16    happy   fearful\n",
              "17     calm      calm\n",
              "18     calm      calm\n",
              "19  fearful   fearful"
            ],
            "text/html": [
              "\n",
              "  <div id=\"df-61bcf2ca-69b0-48eb-b068-3b44a05d108e\">\n",
              "    <div class=\"colab-df-container\">\n",
              "      <div>\n",
              "<style scoped>\n",
              "    .dataframe tbody tr th:only-of-type {\n",
              "        vertical-align: middle;\n",
              "    }\n",
              "\n",
              "    .dataframe tbody tr th {\n",
              "        vertical-align: top;\n",
              "    }\n",
              "\n",
              "    .dataframe thead th {\n",
              "        text-align: right;\n",
              "    }\n",
              "</style>\n",
              "<table border=\"1\" class=\"dataframe\">\n",
              "  <thead>\n",
              "    <tr style=\"text-align: right;\">\n",
              "      <th></th>\n",
              "      <th>Actual</th>\n",
              "      <th>Predicted</th>\n",
              "    </tr>\n",
              "  </thead>\n",
              "  <tbody>\n",
              "    <tr>\n",
              "      <th>0</th>\n",
              "      <td>disgust</td>\n",
              "      <td>disgust</td>\n",
              "    </tr>\n",
              "    <tr>\n",
              "      <th>1</th>\n",
              "      <td>calm</td>\n",
              "      <td>calm</td>\n",
              "    </tr>\n",
              "    <tr>\n",
              "      <th>2</th>\n",
              "      <td>happy</td>\n",
              "      <td>happy</td>\n",
              "    </tr>\n",
              "    <tr>\n",
              "      <th>3</th>\n",
              "      <td>disgust</td>\n",
              "      <td>fearful</td>\n",
              "    </tr>\n",
              "    <tr>\n",
              "      <th>4</th>\n",
              "      <td>disgust</td>\n",
              "      <td>calm</td>\n",
              "    </tr>\n",
              "    <tr>\n",
              "      <th>5</th>\n",
              "      <td>happy</td>\n",
              "      <td>happy</td>\n",
              "    </tr>\n",
              "    <tr>\n",
              "      <th>6</th>\n",
              "      <td>disgust</td>\n",
              "      <td>disgust</td>\n",
              "    </tr>\n",
              "    <tr>\n",
              "      <th>7</th>\n",
              "      <td>disgust</td>\n",
              "      <td>disgust</td>\n",
              "    </tr>\n",
              "    <tr>\n",
              "      <th>8</th>\n",
              "      <td>disgust</td>\n",
              "      <td>calm</td>\n",
              "    </tr>\n",
              "    <tr>\n",
              "      <th>9</th>\n",
              "      <td>disgust</td>\n",
              "      <td>disgust</td>\n",
              "    </tr>\n",
              "    <tr>\n",
              "      <th>10</th>\n",
              "      <td>calm</td>\n",
              "      <td>calm</td>\n",
              "    </tr>\n",
              "    <tr>\n",
              "      <th>11</th>\n",
              "      <td>disgust</td>\n",
              "      <td>calm</td>\n",
              "    </tr>\n",
              "    <tr>\n",
              "      <th>12</th>\n",
              "      <td>fearful</td>\n",
              "      <td>fearful</td>\n",
              "    </tr>\n",
              "    <tr>\n",
              "      <th>13</th>\n",
              "      <td>fearful</td>\n",
              "      <td>fearful</td>\n",
              "    </tr>\n",
              "    <tr>\n",
              "      <th>14</th>\n",
              "      <td>calm</td>\n",
              "      <td>calm</td>\n",
              "    </tr>\n",
              "    <tr>\n",
              "      <th>15</th>\n",
              "      <td>fearful</td>\n",
              "      <td>fearful</td>\n",
              "    </tr>\n",
              "    <tr>\n",
              "      <th>16</th>\n",
              "      <td>happy</td>\n",
              "      <td>fearful</td>\n",
              "    </tr>\n",
              "    <tr>\n",
              "      <th>17</th>\n",
              "      <td>calm</td>\n",
              "      <td>calm</td>\n",
              "    </tr>\n",
              "    <tr>\n",
              "      <th>18</th>\n",
              "      <td>calm</td>\n",
              "      <td>calm</td>\n",
              "    </tr>\n",
              "    <tr>\n",
              "      <th>19</th>\n",
              "      <td>fearful</td>\n",
              "      <td>fearful</td>\n",
              "    </tr>\n",
              "  </tbody>\n",
              "</table>\n",
              "</div>\n",
              "      <button class=\"colab-df-convert\" onclick=\"convertToInteractive('df-61bcf2ca-69b0-48eb-b068-3b44a05d108e')\"\n",
              "              title=\"Convert this dataframe to an interactive table.\"\n",
              "              style=\"display:none;\">\n",
              "        \n",
              "  <svg xmlns=\"http://www.w3.org/2000/svg\" height=\"24px\"viewBox=\"0 0 24 24\"\n",
              "       width=\"24px\">\n",
              "    <path d=\"M0 0h24v24H0V0z\" fill=\"none\"/>\n",
              "    <path d=\"M18.56 5.44l.94 2.06.94-2.06 2.06-.94-2.06-.94-.94-2.06-.94 2.06-2.06.94zm-11 1L8.5 8.5l.94-2.06 2.06-.94-2.06-.94L8.5 2.5l-.94 2.06-2.06.94zm10 10l.94 2.06.94-2.06 2.06-.94-2.06-.94-.94-2.06-.94 2.06-2.06.94z\"/><path d=\"M17.41 7.96l-1.37-1.37c-.4-.4-.92-.59-1.43-.59-.52 0-1.04.2-1.43.59L10.3 9.45l-7.72 7.72c-.78.78-.78 2.05 0 2.83L4 21.41c.39.39.9.59 1.41.59.51 0 1.02-.2 1.41-.59l7.78-7.78 2.81-2.81c.8-.78.8-2.07 0-2.86zM5.41 20L4 18.59l7.72-7.72 1.47 1.35L5.41 20z\"/>\n",
              "  </svg>\n",
              "      </button>\n",
              "      \n",
              "  <style>\n",
              "    .colab-df-container {\n",
              "      display:flex;\n",
              "      flex-wrap:wrap;\n",
              "      gap: 12px;\n",
              "    }\n",
              "\n",
              "    .colab-df-convert {\n",
              "      background-color: #E8F0FE;\n",
              "      border: none;\n",
              "      border-radius: 50%;\n",
              "      cursor: pointer;\n",
              "      display: none;\n",
              "      fill: #1967D2;\n",
              "      height: 32px;\n",
              "      padding: 0 0 0 0;\n",
              "      width: 32px;\n",
              "    }\n",
              "\n",
              "    .colab-df-convert:hover {\n",
              "      background-color: #E2EBFA;\n",
              "      box-shadow: 0px 1px 2px rgba(60, 64, 67, 0.3), 0px 1px 3px 1px rgba(60, 64, 67, 0.15);\n",
              "      fill: #174EA6;\n",
              "    }\n",
              "\n",
              "    [theme=dark] .colab-df-convert {\n",
              "      background-color: #3B4455;\n",
              "      fill: #D2E3FC;\n",
              "    }\n",
              "\n",
              "    [theme=dark] .colab-df-convert:hover {\n",
              "      background-color: #434B5C;\n",
              "      box-shadow: 0px 1px 3px 1px rgba(0, 0, 0, 0.15);\n",
              "      filter: drop-shadow(0px 1px 2px rgba(0, 0, 0, 0.3));\n",
              "      fill: #FFFFFF;\n",
              "    }\n",
              "  </style>\n",
              "\n",
              "      <script>\n",
              "        const buttonEl =\n",
              "          document.querySelector('#df-61bcf2ca-69b0-48eb-b068-3b44a05d108e button.colab-df-convert');\n",
              "        buttonEl.style.display =\n",
              "          google.colab.kernel.accessAllowed ? 'block' : 'none';\n",
              "\n",
              "        async function convertToInteractive(key) {\n",
              "          const element = document.querySelector('#df-61bcf2ca-69b0-48eb-b068-3b44a05d108e');\n",
              "          const dataTable =\n",
              "            await google.colab.kernel.invokeFunction('convertToInteractive',\n",
              "                                                     [key], {});\n",
              "          if (!dataTable) return;\n",
              "\n",
              "          const docLinkHtml = 'Like what you see? Visit the ' +\n",
              "            '<a target=\"_blank\" href=https://colab.research.google.com/notebooks/data_table.ipynb>data table notebook</a>'\n",
              "            + ' to learn more about interactive tables.';\n",
              "          element.innerHTML = '';\n",
              "          dataTable['output_type'] = 'display_data';\n",
              "          await google.colab.output.renderOutput(dataTable, element);\n",
              "          const docLink = document.createElement('div');\n",
              "          docLink.innerHTML = docLinkHtml;\n",
              "          element.appendChild(docLink);\n",
              "        }\n",
              "      </script>\n",
              "    </div>\n",
              "  </div>\n",
              "  "
            ]
          },
          "metadata": {},
          "execution_count": 30
        }
      ]
    }
  ]
}